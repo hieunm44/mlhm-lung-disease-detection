{
  "nbformat": 4,
  "nbformat_minor": 0,
  "metadata": {
    "colab": {
      "provenance": [],
      "gpuType": "T4",
      "toc_visible": true
    },
    "kernelspec": {
      "name": "python3",
      "display_name": "Python 3"
    },
    "language_info": {
      "name": "python"
    },
    "accelerator": "GPU"
  },
  "cells": [
    {
      "cell_type": "markdown",
      "source": [
        "# Setup"
      ],
      "metadata": {
        "id": "hWLIMGnA0nhS"
      }
    },
    {
      "cell_type": "code",
      "source": [
        "!pip install medmnist\n",
        "!pip install git+https://github.com/qubvel/classification_models.git"
      ],
      "metadata": {
        "id": "PK9XHvqbEull"
      },
      "execution_count": null,
      "outputs": []
    },
    {
      "cell_type": "code",
      "source": [
        "from google.colab import drive\n",
        "drive.mount('/content/drive/')\n",
        "%cd drive/MyDrive/MLHM"
      ],
      "metadata": {
        "id": "_johW9rNEwq5"
      },
      "execution_count": null,
      "outputs": []
    },
    {
      "cell_type": "code",
      "source": [
        "import os\n",
        "import medmnist\n",
        "import numpy as np\n",
        "import pandas as pd\n",
        "import seaborn as sns\n",
        "import matplotlib.pyplot as plt\n",
        "import torch\n",
        "import torch.nn as nn\n",
        "import torch.utils.data as data\n",
        "from torchvision.transforms import transforms\n",
        "import torch.optim as optim\n",
        "from torchsummary import summary\n",
        "from tqdm import tqdm\n",
        "from utils import cal_metrics\n",
        "from medvit import MedViT\n",
        "import warnings\n",
        "warnings.filterwarnings('ignore')"
      ],
      "metadata": {
        "id": "iW7ZKTMMEx-b"
      },
      "execution_count": null,
      "outputs": []
    },
    {
      "cell_type": "code",
      "source": [
        "def train(model, train_loader, optimizer, n_epochs, device, model_path=None):\n",
        "    for epoch in range(n_epochs):\n",
        "        model.train()\n",
        "        y_score = torch.tensor([])\n",
        "        y_true = torch.tensor([])\n",
        "        epoch_loss = 0\n",
        "\n",
        "        for inputs, targets in tqdm(train_loader):\n",
        "            inputs, targets = inputs.to(device), targets.to(device)\n",
        "            optimizer.zero_grad()\n",
        "            outputs = model(inputs)\n",
        "\n",
        "            targets = targets.to(torch.float32)\n",
        "            loss = nn.BCEWithLogitsLoss()(outputs, targets)\n",
        "\n",
        "            loss.backward()\n",
        "            optimizer.step()\n",
        "\n",
        "            epoch_loss += loss\n",
        "            y_true = torch.cat((y_true, targets.cpu()), 0)\n",
        "            outputs = outputs.sigmoid()\n",
        "            y_score = torch.cat((y_score, outputs.cpu()), 0)\n",
        "\n",
        "        y_true = y_true.detach().numpy()\n",
        "        y_score = y_score.detach().numpy()\n",
        "        epoch_loss /= len(train_loader)\n",
        "        train_metrics = cal_metrics(y_true, y_score)\n",
        "\n",
        "        print(f'Epoch {epoch}; loss: {epoch_loss}; train_acc: {train_metrics[0]}; train_f1: {train_metrics[1]}; train_auc: {train_metrics[2]}')\n",
        "\n",
        "    if model_path != None:\n",
        "        torch.save(model.state_dict(), f=model_path)\n",
        "        print('Model saved to:', model_path)\n",
        "\n",
        "\n",
        "def evaluate(model, test_loader, device):\n",
        "    with torch.no_grad():\n",
        "        y_score = torch.tensor([])\n",
        "        y_true = torch.tensor([])\n",
        "        for inputs, targets in tqdm(test_loader):\n",
        "            inputs, targets = inputs.to(device), targets.to(device)\n",
        "            outputs = model(inputs)\n",
        "\n",
        "            y_true = torch.cat((y_true, targets.cpu()), 0)\n",
        "            outputs = outputs.softmax(dim=-1)\n",
        "            y_score = torch.cat((y_score, outputs.cpu()), 0)\n",
        "\n",
        "    test_metrics = cal_metrics(y_true, y_score)\n",
        "\n",
        "    return test_metrics"
      ],
      "metadata": {
        "id": "QBOWZlx_oL1A"
      },
      "execution_count": null,
      "outputs": []
    },
    {
      "cell_type": "code",
      "source": [
        "data_flag = 'chestmnist'\n",
        "dataset_folder = f'./{data_flag}'\n",
        "model_folder = './saved_models'\n",
        "download = False\n",
        "info = medmnist.INFO[data_flag]\n",
        "task, n_samples, n_channels, n_classes, label_dict = info['task'], info['n_samples'], info['n_channels'], len(info['label']), info['label']\n",
        "\n",
        "print('Task:', task)\n",
        "print('Number of samples:', n_samples)\n",
        "print('Number of channels:', n_channels)\n",
        "print('Number of classes:', n_classes)\n",
        "print('Label Dict:', label_dict)"
      ],
      "metadata": {
        "colab": {
          "base_uri": "https://localhost:8080/"
        },
        "id": "ih6If55KiCEF",
        "outputId": "07f6e5f3-83a9-4ac3-fde3-628e0adb2695"
      },
      "execution_count": null,
      "outputs": [
        {
          "output_type": "stream",
          "name": "stdout",
          "text": [
            "Task: multi-label, binary-class\n",
            "Number of samples: {'train': 78468, 'val': 11219, 'test': 22433}\n",
            "Number of channels: 1\n",
            "Number of classes: 14\n",
            "Label Dict: {'0': 'atelectasis', '1': 'cardiomegaly', '2': 'effusion', '3': 'infiltration', '4': 'mass', '5': 'nodule', '6': 'pneumonia', '7': 'pneumothorax', '8': 'consolidation', '9': 'edema', '10': 'emphysema', '11': 'fibrosis', '12': 'pleural', '13': 'hernia'}\n"
          ]
        }
      ]
    },
    {
      "cell_type": "code",
      "source": [
        "BATCH_SIZE = 128\n",
        "N_EPOCHS = 20\n",
        "LR = 0.001\n",
        "WEIGHT_DECAY = 0.001\n",
        "DEVICE = 'cuda:0'\n",
        "DataClass = getattr(medmnist, info['python_class'])\n",
        "\n",
        "# preprocessing\n",
        "train_transform = transforms.Compose([\n",
        "    transforms.Lambda(lambda image: image.convert('RGB')),\n",
        "    transforms.ToTensor(),\n",
        "    transforms.Normalize(mean=[.5], std=[.5])\n",
        "])\n",
        "\n",
        "test_transform = transforms.Compose([\n",
        "    transforms.Lambda(lambda image: image.convert('RGB')),\n",
        "    transforms.ToTensor(),\n",
        "    transforms.Normalize(mean=[.5], std=[.5])\n",
        "])"
      ],
      "metadata": {
        "id": "M9dEMC-5kq6d"
      },
      "execution_count": null,
      "outputs": []
    },
    {
      "cell_type": "markdown",
      "source": [
        "# 64x64"
      ],
      "metadata": {
        "id": "IqKGUh5m2nu6"
      }
    },
    {
      "cell_type": "code",
      "source": [
        "image_size_64 = 64\n",
        "train_dataset_64 = DataClass(root=dataset_folder, size=image_size_64, split='train', transform=train_transform, download=False)\n",
        "test_dataset_64 = DataClass(root=dataset_folder, size=image_size_64, split='test', transform=test_transform, download=False)\n",
        "\n",
        "train_loader_64 = data.DataLoader(dataset=train_dataset_64, batch_size=BATCH_SIZE, shuffle=True)\n",
        "test_loader_64 = data.DataLoader(dataset=test_dataset_64, batch_size=BATCH_SIZE, shuffle=False)"
      ],
      "metadata": {
        "id": "hdZUagkCn3mg"
      },
      "execution_count": null,
      "outputs": []
    },
    {
      "cell_type": "code",
      "execution_count": null,
      "metadata": {
        "id": "GoljV9ltP6sb"
      },
      "outputs": [],
      "source": [
        "medvit_64 = MedViT(stem_chs=[64, 32, 64], depths=[3, 4, 30, 3], path_dropout=0.1, num_classes = n_classes).to(DEVICE)\n",
        "summary(model=medvit_64, input_size=(3, image_size_64, image_size_64))"
      ]
    },
    {
      "cell_type": "code",
      "source": [
        "medvit_64_path = f'{model_folder}/medvit_64.pth'\n",
        "torch.save(medvit_64.state_dict(), f=medvit_64_path)"
      ],
      "metadata": {
        "id": "cPD7P5wEzFU1"
      },
      "execution_count": null,
      "outputs": []
    },
    {
      "cell_type": "code",
      "source": [
        "medvit_64_path = f'{model_folder}/medvit_64.pth'\n",
        "optimizer = optim.Adam(medvit_64.parameters(), lr=LR, weight_decay=WEIGHT_DECAY)\n",
        "train(medvit_64, train_loader_64, optimizer, n_epochs=N_EPOCHS, device=DEVICE, model_path=medvit_64_path)"
      ],
      "metadata": {
        "id": "SCR5u1p3RDT3"
      },
      "execution_count": null,
      "outputs": []
    },
    {
      "cell_type": "code",
      "source": [
        "medvit_64.load_state_dict(torch.load(medvit_64_path, weights_only=True))\n",
        "medvit_64.eval()\n",
        "\n",
        "test_metrics = evaluate(medvit_64, test_loader_64, device=DEVICE)\n",
        "print(f'test_acc: {test_metrics[0]}; test_f1: {test_metrics[1]}; test_auc: {test_metrics[2]}')"
      ],
      "metadata": {
        "colab": {
          "base_uri": "https://localhost:8080/"
        },
        "id": "iwmOS8AfRFBy",
        "outputId": "2a48e5fa-9b2c-4dc9-bcd3-15a8cb2ac830"
      },
      "execution_count": null,
      "outputs": [
        {
          "output_type": "stream",
          "name": "stderr",
          "text": [
            "100%|██████████| 176/176 [00:17<00:00,  9.93it/s]\n"
          ]
        },
        {
          "output_type": "stream",
          "name": "stdout",
          "text": [
            "test_acc: 0.9474307620788253; test_f1: 0.0; test_auc: 0.5066876700316763\n"
          ]
        }
      ]
    },
    {
      "cell_type": "markdown",
      "source": [
        "# 128x128"
      ],
      "metadata": {
        "id": "Rc3WKRGi2rlC"
      }
    },
    {
      "cell_type": "code",
      "source": [
        "image_size_128 = 128\n",
        "train_dataset_128 = DataClass(root=dataset_folder, size=image_size_128, split='train', transform=train_transform, download=False)\n",
        "test_dataset_128 = DataClass(root=dataset_folder, size=image_size_128, split='test', transform=test_transform, download=False)\n",
        "\n",
        "train_loader_128 = data.DataLoader(dataset=train_dataset_128, batch_size=BATCH_SIZE, shuffle=True)\n",
        "test_loader_128 = data.DataLoader(dataset=test_dataset_128, batch_size=BATCH_SIZE, shuffle=False)"
      ],
      "metadata": {
        "id": "x8GKKc5I2xa7"
      },
      "execution_count": null,
      "outputs": []
    },
    {
      "cell_type": "code",
      "execution_count": null,
      "metadata": {
        "id": "Jr-LU56l22ZX"
      },
      "outputs": [],
      "source": [
        "medvit_128 = MedViT(stem_chs=[64, 32, 64], depths=[3, 4, 30, 3], path_dropout=0.1, num_classes=n_classes).to(DEVICE)\n",
        "summary(model=medvit_128, input_size=(3, image_size_128, image_size_128))"
      ]
    },
    {
      "cell_type": "code",
      "source": [
        "medvit_128_path = f'{model_folder}/medvit_128.pth'\n",
        "torch.save(medvit_128.state_dict(), f=medvit_128_path)"
      ],
      "metadata": {
        "id": "pLXkakBtzeh2"
      },
      "execution_count": null,
      "outputs": []
    },
    {
      "cell_type": "code",
      "source": [
        "medvit_128_path = f'{model_folder}/medvit_128.pth'\n",
        "optimizer = optim.Adam(medvit_128.parameters(), lr=LR, weight_decay=WEIGHT_DECAY)\n",
        "train(medvit_128, train_loader_128, optimizer, n_epochs=N_EPOCHS, device=DEVICE, model_path=medvit_128_path)"
      ],
      "metadata": {
        "id": "PhNWUB2Q25TJ"
      },
      "execution_count": null,
      "outputs": []
    },
    {
      "cell_type": "code",
      "source": [
        "medvit_128.load_state_dict(torch.load(medvit_128_path, weights_only=True))\n",
        "medvit_128.eval()\n",
        "\n",
        "test_metrics = evaluate(medvit_128, test_loader_128, device=DEVICE)\n",
        "print(f'test_acc: {test_metrics[0]}; test_f1: {test_metrics[1]}; test_auc: {test_metrics[2]}')"
      ],
      "metadata": {
        "id": "DVUlREGQ26Ch"
      },
      "execution_count": null,
      "outputs": []
    },
    {
      "cell_type": "markdown",
      "source": [
        "# 224x224"
      ],
      "metadata": {
        "id": "2OcMod5V8F6E"
      }
    },
    {
      "cell_type": "code",
      "source": [
        "image_size_224 = 224\n",
        "train_dataset_224 = DataClass(root=dataset_folder, size=image_size_224, split='train', transform=train_transform, download=False)\n",
        "test_dataset_224 = DataClass(root=dataset_folder, size=image_size_224, split='test', transform=test_transform, download=False)\n",
        "\n",
        "train_loader_224 = data.DataLoader(dataset=train_dataset_224, batch_size=BATCH_SIZE, shuffle=True)\n",
        "test_loader_224 = data.DataLoader(dataset=test_dataset_224, batch_size=BATCH_SIZE, shuffle=False)"
      ],
      "metadata": {
        "id": "hz4ju_jG8F6F"
      },
      "execution_count": null,
      "outputs": []
    },
    {
      "cell_type": "code",
      "execution_count": null,
      "metadata": {
        "id": "BtcmqYMY8F6F"
      },
      "outputs": [],
      "source": [
        "medvit_224 = MedViT(stem_chs=[64, 32, 64], depths=[3, 4, 30, 3], path_dropout=0.1, num_classes=n_classes).to(DEVICE)\n",
        "summary(model=medvit_224, input_size=(3, image_size_224, image_size_224))"
      ]
    },
    {
      "cell_type": "code",
      "source": [
        "medvit_224_path = f'{model_folder}/medvit_224.pth'\n",
        "torch.save(medvit_224.state_dict(), f=medvit_224_path)"
      ],
      "metadata": {
        "id": "LKa-eEJTzi1b"
      },
      "execution_count": null,
      "outputs": []
    },
    {
      "cell_type": "code",
      "source": [
        "medvit_224_path = f'{model_folder}/medvit_224.pth'\n",
        "optimizer = optim.Adam(medvit_224.parameters(), lr=LR, weight_decay=WEIGHT_DECAY)\n",
        "train(medvit_224, train_loader_224, optimizer, n_epochs=N_EPOCHS, device=DEVICE, model_path=medvit_224_path)"
      ],
      "metadata": {
        "id": "fSn92aBU8F6F"
      },
      "execution_count": null,
      "outputs": []
    },
    {
      "cell_type": "code",
      "source": [
        "medvit_224.load_state_dict(torch.load(medvit_224_path, weights_only=True))\n",
        "medvit_224.eval()\n",
        "\n",
        "test_metrics = evaluate(medvit_224, test_loader_224, device=DEVICE)\n",
        "print(f'test_acc: {test_metrics[0]}; test_f1: {test_metrics[1]}; test_auc: {test_metrics[2]}')"
      ],
      "metadata": {
        "id": "X1niCivZ8F6G"
      },
      "execution_count": null,
      "outputs": []
    }
  ]
}